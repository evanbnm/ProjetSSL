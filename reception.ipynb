{
 "cells": [
  {
   "cell_type": "code",
   "execution_count": null,
   "metadata": {},
   "outputs": [],
   "source": [
    "import msicpe.ssl as ssl\n",
    "import numpy as np\n",
    "import scipy.io as io\n",
    "import sounddevice as sd\n",
    "import soundfile as sf\n",
    "import pandas as pd\n",
    "import plotly.express as px\n",
    "\n"
   ]
  },
  {
   "cell_type": "code",
   "execution_count": null,
   "metadata": {},
   "outputs": [],
   "source": [
    "fp = 9000\n",
    "fe = 96000\n",
    "fc = 3000\n",
    "\n",
    "def demodule(signal, t):\n",
    "    return signal * np.cos(2 * np.pi * fp * t)\n",
    "\n",
    "def passe_bas(signal):\n",
    "    return ssl.PasseBas(signal, fe, fc)\n"
   ]
  },
  {
   "cell_type": "code",
   "execution_count": null,
   "metadata": {},
   "outputs": [],
   "source": [
    "Sm = io.loadmat(\"signal_fp_9kHz.mat\")\n",
    "print(Sm['signal'])\n",
    "\n",
    "t = Sm['temps '].squeeze()\n",
    "\n",
    "Sm = Sm['signal'] / np.max(np.abs(Sm['signal'])) #normalisation\n",
    "\n",
    "Sd = demodule(Sm, t).squeeze()\n",
    "\n",
    "#tracer spectre\n",
    "\n",
    "Ss = passe_bas(Sd)\n",
    "\n",
    "sf.write(\"signal_fp_9kHz2.wav\", Ss, fe)"
   ]
  },
  {
   "cell_type": "code",
   "execution_count": null,
   "metadata": {},
   "outputs": [],
   "source": [
    "SF , f = ssl.TransFourier(Ss,t)\n",
    "\n",
    "# Convert complex numbers to their magnitudes\n",
    "SF_magnitude = np.abs(SF)\n",
    "\n",
    "df = pd.DataFrame({'fréquence'  : f, 'signal' : SF_magnitude})\n",
    "figure = px.line(data_frame = df, x = 'fréquence', y = 'signal')\n",
    "figure.update_layout(xaxis_title = 'fréquence(Hz)', yaxis_title = 'TranFourier du signal modulé')\n",
    "figure.show()"
   ]
  },
  {
   "cell_type": "code",
   "execution_count": null,
   "metadata": {},
   "outputs": [],
   "source": [
    "df = pd.DataFrame({'temps' : t, 'signal' : Ss})\n",
    "figure = px.line(data_frame = df, x = 'temps', y = 'signal')\n",
    "figure.update_layout(xaxis_title = 'fréquence(Hz)', yaxis_title = 'signal démodulé')\n",
    "figure.show()"
   ]
  }
 ],
 "metadata": {
  "kernelspec": {
   "display_name": "env_msi",
   "language": "python",
   "name": "python3"
  },
  "language_info": {
   "codemirror_mode": {
    "name": "ipython",
    "version": 3
   },
   "file_extension": ".py",
   "mimetype": "text/x-python",
   "name": "python",
   "nbconvert_exporter": "python",
   "pygments_lexer": "ipython3",
   "version": "3.12.6"
  }
 },
 "nbformat": 4,
 "nbformat_minor": 2
}
