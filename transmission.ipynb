{
 "cells": [
  {
   "cell_type": "code",
   "execution_count": 16,
   "metadata": {},
   "outputs": [],
   "source": [
    "import numpy as np\n",
    "import msicpe.ssl as ssl\n",
    "import soundfile as sf\n",
    "import scipy.io as io"
   ]
  },
  {
   "cell_type": "code",
   "execution_count": null,
   "metadata": {},
   "outputs": [],
   "source": [
    "\n",
    "\n",
    "Fe = 96000      #fréquence d'échantillonnage\n",
    "Fp = 9000       #fréquence de modulation\n",
    "Fc = 3000       #fréquence de coupure pour les filtres passe-bas\n",
    "T  = 5\n",
    "\n",
    "nom_fichier = None\n",
    "\n",
    "\n",
    "while nom_fichier ==None:\n",
    "    nom_fichier, s, t = ssl.RecordModulation(Fe, T)\n",
    "\n",
    "sf.write('nom_fichier.wav', np.int16(s), Fe)\n",
    "\n",
    "def modulation(s,t):\n",
    "    s_module = s*np.cos(2*np.pi*Fp*t)\n",
    "    return s_module\n",
    "\n",
    "def f_passebas(S):\n",
    "    Sf = ssl.PasseBas(S,Fe,Fc)\n",
    "    return Sf\n"
   ]
  },
  {
   "cell_type": "code",
   "execution_count": 18,
   "metadata": {},
   "outputs": [],
   "source": [
    "Sf = f_passebas(s)\n",
    "Sm = modulation(Sf, t)"
   ]
  },
  {
   "cell_type": "code",
   "execution_count": null,
   "metadata": {},
   "outputs": [],
   "source": [
    "import pandas as pd\n",
    "import plotly.express as px\n",
    "# transformée de Fourrier \n",
    "\n",
    "Stf , f = ssl.TransFourier(Sm,t)\n",
    "S, f = ssl.TransFourier(s,t)\n",
    "\n",
    "Stf_magnitude = np.abs(Stf)\n",
    "S_magnitude = np.abs(S)\n",
    "\n",
    "df = pd.DataFrame({'fréquence'  : f, 'signal_modulé' : Stf_magnitude, 'signal' : S_magnitude})\n",
    "figure = px.line(data_frame = df, x = 'fréquence', y = ['signal', 'signal_modulé'])\n",
    "figure.update_layout(xaxis_title = 'fréquence(Hz)', yaxis_title = 'TranFourier des signaux')\n",
    "figure.show()\n",
    "\n"
   ]
  },
  {
   "cell_type": "code",
   "execution_count": 20,
   "metadata": {},
   "outputs": [],
   "source": [
    "#envoi du signal\n",
    "\n",
    "dic = {'signal' : Sm, 'label' : 'signal_fp_9kHZ'}\n",
    "io.savemat('Gr1_Czernecki.mat', dic)"
   ]
  }
 ],
 "metadata": {
  "kernelspec": {
   "display_name": "env_msi",
   "language": "python",
   "name": "python3"
  },
  "language_info": {
   "codemirror_mode": {
    "name": "ipython",
    "version": 3
   },
   "file_extension": ".py",
   "mimetype": "text/x-python",
   "name": "python",
   "nbconvert_exporter": "python",
   "pygments_lexer": "ipython3",
   "version": "3.12.6"
  }
 },
 "nbformat": 4,
 "nbformat_minor": 2
}
