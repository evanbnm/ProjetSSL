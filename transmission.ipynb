{
 "cells": [
  {
   "cell_type": "code",
   "execution_count": null,
   "metadata": {},
   "outputs": [
    {
     "name": "stdout",
     "output_type": "stream",
     "text": [
      "Help on function PasseBas in module msicpe.ssl.PasseBas:\n",
      "\n",
      "PasseBas(z, Fe, Fc, ordre=9)\n",
      "    Applique un filtre passe-bas Butterworth d'ordre spécifié à un signal.\n",
      "    \n",
      "    Parameters\n",
      "    ----------\n",
      "    z : array_like\n",
      "        Vecteur contenant les échantillons du signal à filtrer.\n",
      "    Fe : float\n",
      "        Fréquence d'échantillonnage du signal en Hz.\n",
      "    Fc : float\n",
      "        Fréquence de coupure du filtre passe-bas en Hz.\n",
      "    ordre : int, optional\n",
      "        Ordre du filtre Butterworth. Par défaut, ordre=9.\n",
      "    \n",
      "    Returns\n",
      "    -------\n",
      "    s : numpy.ndarray\n",
      "        Signal filtré.\n",
      "    \n",
      "    Raises\n",
      "    ------\n",
      "    ValueError\n",
      "        Si les fréquences de coupure ne sont pas dans la plage valide.\n",
      "\n"
     ]
    }
   ],
   "source": [
    "import numpy as np\n",
    "import msicpe.ssl as ssl\n",
    "\n",
    "Fe = 96000      #Fréqence d'échantillonage\n",
    "Fc = 3000       #Fréquence de coupure pour les filtres passe-bas\n",
    "\n",
    "def f_passebas():\n",
    "    Sf[t] = ssl.Passebas(S[t],Fe,Fc)\n",
    "    return Sf[t]\n",
    "\n"
   ]
  }
 ],
 "metadata": {
  "kernelspec": {
   "display_name": "env_msi",
   "language": "python",
   "name": "python3"
  },
  "language_info": {
   "codemirror_mode": {
    "name": "ipython",
    "version": 3
   },
   "file_extension": ".py",
   "mimetype": "text/x-python",
   "name": "python",
   "nbconvert_exporter": "python",
   "pygments_lexer": "ipython3",
   "version": "3.11.3"
  }
 },
 "nbformat": 4,
 "nbformat_minor": 2
}
