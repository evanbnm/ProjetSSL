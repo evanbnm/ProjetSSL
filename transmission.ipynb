{
 "cells": [
  {
   "cell_type": "code",
   "execution_count": 3,
   "metadata": {},
   "outputs": [],
   "source": [
    "import numpy as np\n",
    "import msicpe.ssl as ssl\n",
    "\n",
    "Fe = 96000      #fréquence d'échantillonnage\n",
    "Fp = 9000       #fréquence de modulation\n",
    "Fc = 3000       #fréquence de coupure pour les filtres passe-bas\n",
    "T = 2\n",
    "\n",
    "nom_fichier = None\n",
    "\n",
    "while nom_fichier ==None:\n",
    "    nom_fichier, s, t = ssl.RecordModulation(Fe, T)\n",
    "\n",
    "def modulation(s,t):\n",
    "    s_module = s*np.cos(2*np.pi*Fp*t)\n",
    "    return s_module\n",
    "\n",
    "Fe = 96000      #Fréqence d'échantillonage\n",
    "Fc = 3000       #Fréquence de coupure pour les filtres passe-bas\n",
    "\n",
    "def f_passebas(S):\n",
    "    Sf = ssl.Passebas(S,Fe,Fc)\n",
    "    return Sf"
   ]
  }
 ],
 "metadata": {
  "kernelspec": {
   "display_name": "env_msi",
   "language": "python",
   "name": "python3"
  },
  "language_info": {
   "codemirror_mode": {
    "name": "ipython",
    "version": 3
   },
   "file_extension": ".py",
   "mimetype": "text/x-python",
   "name": "python",
   "version": "3.11.9"
  }
 },
 "nbformat": 4,
 "nbformat_minor": 2
}
